{
 "cells": [
  {
   "cell_type": "code",
   "execution_count": 1,
   "id": "b4a9ec99",
   "metadata": {},
   "outputs": [],
   "source": [
    "import pandas as pd\n",
    "import numpy as np"
   ]
  },
  {
   "cell_type": "code",
   "execution_count": 2,
   "id": "17950390",
   "metadata": {},
   "outputs": [],
   "source": [
    "df = pd.read_csv('Placement.csv')"
   ]
  },
  {
   "cell_type": "code",
   "execution_count": 4,
   "id": "f0b0a526",
   "metadata": {},
   "outputs": [
    {
     "name": "stdout",
     "output_type": "stream",
     "text": [
      "Information of Dataset:\n",
      " <bound method DataFrame.info of      sl_no gender  ssc_p    ssc_b  hsc_p    hsc_b     hsc_s  degree_p  \\\n",
      "0        1      M  67.00   Others  91.00   Others  Commerce     58.00   \n",
      "1        2      M  79.33  Central  78.33   Others   Science     77.48   \n",
      "2        3      M  65.00  Central  68.00  Central      Arts     64.00   \n",
      "3        4      M  56.00  Central  52.00  Central   Science     52.00   \n",
      "4        5    NaN  85.80  Central  73.60  Central  Commerce     73.30   \n",
      "..     ...    ...    ...      ...    ...      ...       ...       ...   \n",
      "210    211      M  80.60   Others  82.00   Others  Commerce     77.60   \n",
      "211    212      M  58.00   Others  60.00   Others   Science     72.00   \n",
      "212    213      M  67.00   Others  67.00   Others  Commerce     73.00   \n",
      "213    214      F  74.00   Others  66.00   Others  Commerce     58.00   \n",
      "214    215      M  62.00  Central  58.00   Others   Science     53.00   \n",
      "\n",
      "      degree_t workex  etest_p specialisation  mba_p      status    salary  \n",
      "0     Sci&Tech     No     55.0         Mkt&HR  58.80      Placed  270000.0  \n",
      "1     Sci&Tech    Yes     86.5        Mkt&Fin  66.28      Placed  200000.0  \n",
      "2    Comm&Mgmt     No     75.0        Mkt&Fin  57.80      Placed  250000.0  \n",
      "3     Sci&Tech     No     66.0         Mkt&HR  59.43  Not Placed       NaN  \n",
      "4    Comm&Mgmt     No     96.8        Mkt&Fin  55.50      Placed  425000.0  \n",
      "..         ...    ...      ...            ...    ...         ...       ...  \n",
      "210  Comm&Mgmt     No     91.0        Mkt&Fin  74.49      Placed  400000.0  \n",
      "211   Sci&Tech     No     74.0        Mkt&Fin  53.62      Placed  275000.0  \n",
      "212  Comm&Mgmt    Yes     59.0        Mkt&Fin  69.72      Placed  295000.0  \n",
      "213  Comm&Mgmt     No     70.0         Mkt&HR  60.23      Placed  204000.0  \n",
      "214  Comm&Mgmt     No     89.0         Mkt&HR  60.22  Not Placed       NaN  \n",
      "\n",
      "[215 rows x 15 columns]>\n"
     ]
    }
   ],
   "source": [
    "print('Information of Dataset:\\n', df.info)"
   ]
  },
  {
   "cell_type": "code",
   "execution_count": 5,
   "id": "32e072db",
   "metadata": {},
   "outputs": [
    {
     "name": "stdout",
     "output_type": "stream",
     "text": [
      "Shape of Dataset (row x column):  (215, 15)\n"
     ]
    }
   ],
   "source": [
    "print('Shape of Dataset (row x column): ', df.shape)\n"
   ]
  },
  {
   "cell_type": "code",
   "execution_count": 6,
   "id": "9acbcaf8",
   "metadata": {},
   "outputs": [
    {
     "name": "stdout",
     "output_type": "stream",
     "text": [
      "Columns Name:  Index(['sl_no', 'gender', 'ssc_p', 'ssc_b', 'hsc_p', 'hsc_b', 'hsc_s',\n",
      "       'degree_p', 'degree_t', 'workex', 'etest_p', 'specialisation', 'mba_p',\n",
      "       'status', 'salary'],\n",
      "      dtype='object')\n"
     ]
    }
   ],
   "source": [
    "print('Columns Name: ',df.columns)"
   ]
  },
  {
   "cell_type": "code",
   "execution_count": 7,
   "id": "ea494fc7",
   "metadata": {},
   "outputs": [
    {
     "name": "stdout",
     "output_type": "stream",
     "text": [
      "Total Elements in dataset: 3225\n"
     ]
    }
   ],
   "source": [
    "print('Total Elements in dataset:',df.size)"
   ]
  },
  {
   "cell_type": "code",
   "execution_count": 8,
   "id": "daee09b0",
   "metadata": {},
   "outputs": [
    {
     "name": "stdout",
     "output_type": "stream",
     "text": [
      "Datatype of attributes (columns): sl_no               int64\n",
      "gender             object\n",
      "ssc_p             float64\n",
      "ssc_b              object\n",
      "hsc_p             float64\n",
      "hsc_b              object\n",
      "hsc_s              object\n",
      "degree_p          float64\n",
      "degree_t           object\n",
      "workex             object\n",
      "etest_p           float64\n",
      "specialisation     object\n",
      "mba_p             float64\n",
      "status             object\n",
      "salary            float64\n",
      "dtype: object\n"
     ]
    }
   ],
   "source": [
    "print('Datatype of attributes (columns):',df.dtypes)"
   ]
  },
  {
   "cell_type": "code",
   "execution_count": 9,
   "id": "dc2957fe",
   "metadata": {},
   "outputs": [
    {
     "name": "stdout",
     "output_type": "stream",
     "text": [
      "First 5 rows:\n",
      " <bound method NDFrame.head of      sl_no gender  ssc_p    ssc_b  hsc_p    hsc_b     hsc_s  degree_p  \\\n",
      "0        1      M  67.00   Others  91.00   Others  Commerce     58.00   \n",
      "1        2      M  79.33  Central  78.33   Others   Science     77.48   \n",
      "2        3      M  65.00  Central  68.00  Central      Arts     64.00   \n",
      "3        4      M  56.00  Central  52.00  Central   Science     52.00   \n",
      "4        5    NaN  85.80  Central  73.60  Central  Commerce     73.30   \n",
      "..     ...    ...    ...      ...    ...      ...       ...       ...   \n",
      "210    211      M  80.60   Others  82.00   Others  Commerce     77.60   \n",
      "211    212      M  58.00   Others  60.00   Others   Science     72.00   \n",
      "212    213      M  67.00   Others  67.00   Others  Commerce     73.00   \n",
      "213    214      F  74.00   Others  66.00   Others  Commerce     58.00   \n",
      "214    215      M  62.00  Central  58.00   Others   Science     53.00   \n",
      "\n",
      "      degree_t workex  etest_p specialisation  mba_p      status    salary  \n",
      "0     Sci&Tech     No     55.0         Mkt&HR  58.80      Placed  270000.0  \n",
      "1     Sci&Tech    Yes     86.5        Mkt&Fin  66.28      Placed  200000.0  \n",
      "2    Comm&Mgmt     No     75.0        Mkt&Fin  57.80      Placed  250000.0  \n",
      "3     Sci&Tech     No     66.0         Mkt&HR  59.43  Not Placed       NaN  \n",
      "4    Comm&Mgmt     No     96.8        Mkt&Fin  55.50      Placed  425000.0  \n",
      "..         ...    ...      ...            ...    ...         ...       ...  \n",
      "210  Comm&Mgmt     No     91.0        Mkt&Fin  74.49      Placed  400000.0  \n",
      "211   Sci&Tech     No     74.0        Mkt&Fin  53.62      Placed  275000.0  \n",
      "212  Comm&Mgmt    Yes     59.0        Mkt&Fin  69.72      Placed  295000.0  \n",
      "213  Comm&Mgmt     No     70.0         Mkt&HR  60.23      Placed  204000.0  \n",
      "214  Comm&Mgmt     No     89.0         Mkt&HR  60.22  Not Placed       NaN  \n",
      "\n",
      "[215 rows x 15 columns]>\n"
     ]
    }
   ],
   "source": [
    "print('First 5 rows:\\n',df.head)"
   ]
  },
  {
   "cell_type": "code",
   "execution_count": 12,
   "id": "d7d3a826",
   "metadata": {},
   "outputs": [
    {
     "name": "stdout",
     "output_type": "stream",
     "text": [
      "Last 5 rows:\n",
      "                       210       211        212        213         214\n",
      "sl_no                 211       212        213        214         215\n",
      "gender                  M         M          M          F           M\n",
      "ssc_p                80.6      58.0       67.0       74.0        62.0\n",
      "ssc_b              Others    Others     Others     Others     Central\n",
      "hsc_p                82.0      60.0       67.0       66.0        58.0\n",
      "hsc_b              Others    Others     Others     Others      Others\n",
      "hsc_s            Commerce   Science   Commerce   Commerce     Science\n",
      "degree_p             77.6      72.0       73.0       58.0        53.0\n",
      "degree_t        Comm&Mgmt  Sci&Tech  Comm&Mgmt  Comm&Mgmt   Comm&Mgmt\n",
      "workex                 No        No        Yes         No          No\n",
      "etest_p              91.0      74.0       59.0       70.0        89.0\n",
      "specialisation    Mkt&Fin   Mkt&Fin    Mkt&Fin     Mkt&HR      Mkt&HR\n",
      "mba_p               74.49     53.62      69.72      60.23       60.22\n",
      "status             Placed    Placed     Placed     Placed  Not Placed\n",
      "salary           400000.0  275000.0   295000.0   204000.0         NaN\n"
     ]
    }
   ],
   "source": [
    "print('Last 5 rows:\\n',df.tail().T)"
   ]
  },
  {
   "cell_type": "code",
   "execution_count": 15,
   "id": "00268597",
   "metadata": {},
   "outputs": [
    {
     "name": "stdout",
     "output_type": "stream",
     "text": [
      "Any 5 rows:\n",
      "                       2           82        156       77          3  \n",
      "sl_no                   3          83       157        78           4\n",
      "gender                  M           M         M         M           M\n",
      "ssc_p                65.0        63.0      84.2      64.0        56.0\n",
      "ssc_b             Central     Central   Central    Others     Central\n",
      "hsc_p                68.0        67.0      69.4      80.0        52.0\n",
      "hsc_b             Central     Central   Central    Others     Central\n",
      "hsc_s                Arts    Commerce   Science   Science     Science\n",
      "degree_p             64.0        74.0      65.0      65.0        52.0\n",
      "degree_t        Comm&Mgmt   Comm&Mgmt  Sci&Tech  Sci&Tech    Sci&Tech\n",
      "workex                 No          No       Yes       Yes          No\n",
      "etest_p              75.0        82.0      80.0      69.0        66.0\n",
      "specialisation    Mkt&Fin     Mkt&Fin    Mkt&HR   Mkt&Fin      Mkt&HR\n",
      "mba_p                57.8       60.44     52.72     57.65       59.43\n",
      "status             Placed  Not Placed    Placed    Placed  Not Placed\n",
      "salary           250000.0         NaN  255000.0  500000.0         NaN\n"
     ]
    }
   ],
   "source": [
    "print('Any 5 rows:\\n',df.sample(5).T)"
   ]
  },
  {
   "cell_type": "code",
   "execution_count": 16,
   "id": "7d833e06",
   "metadata": {},
   "outputs": [
    {
     "name": "stdout",
     "output_type": "stream",
     "text": [
      "Statistical information of Numerical Columns: \n",
      "             sl_no       ssc_p       hsc_p    degree_p     etest_p       mba_p  \\\n",
      "count  215.000000  213.000000  214.000000  213.000000  213.000000  213.000000   \n",
      "mean   108.000000   67.372911   66.344065   66.388404   72.219390   62.266103   \n",
      "std     62.209324   10.811464   10.921885    7.256840   13.255118    5.837303   \n",
      "min      1.000000   40.890000   37.000000   50.200000   50.000000   51.210000   \n",
      "25%     54.500000   60.800000   60.850000   61.000000   60.000000   57.900000   \n",
      "50%    108.000000   67.000000   65.000000   66.000000   71.000000   62.000000   \n",
      "75%    161.500000   76.000000   73.000000   72.000000   84.000000   66.230000   \n",
      "max    215.000000   89.400000   97.700000   91.000000   98.000000   77.890000   \n",
      "\n",
      "              salary  \n",
      "count     148.000000  \n",
      "mean   288655.405405  \n",
      "std     93457.452420  \n",
      "min    200000.000000  \n",
      "25%    240000.000000  \n",
      "50%    265000.000000  \n",
      "75%    300000.000000  \n",
      "max    940000.000000  \n"
     ]
    }
   ],
   "source": [
    "print('Statistical information of Numerical Columns: \\n',df.describe())"
   ]
  },
  {
   "cell_type": "code",
   "execution_count": 18,
   "id": "dcf90e58",
   "metadata": {},
   "outputs": [
    {
     "name": "stdout",
     "output_type": "stream",
     "text": [
      "Total Number of Null Values in Dataset:\n",
      " sl_no              0\n",
      "gender             2\n",
      "ssc_p              2\n",
      "ssc_b              1\n",
      "hsc_p              1\n",
      "hsc_b              2\n",
      "hsc_s              2\n",
      "degree_p           2\n",
      "degree_t           1\n",
      "workex             2\n",
      "etest_p            2\n",
      "specialisation     2\n",
      "mba_p              2\n",
      "status             0\n",
      "salary            67\n",
      "dtype: int64\n"
     ]
    }
   ],
   "source": [
    "print('Total Number of Null Values in Dataset:\\n', df.isna().sum())"
   ]
  },
  {
   "cell_type": "code",
   "execution_count": 19,
   "id": "5cfccf43",
   "metadata": {},
   "outputs": [
    {
     "name": "stdout",
     "output_type": "stream",
     "text": [
      "Mode of ssc_b:  0    Central\n",
      "Name: ssc_b, dtype: object\n"
     ]
    }
   ],
   "source": [
    "df['gender'].fillna(df['gender'].mode()[0], inplace=True)\n",
    "df['ssc_p'].fillna(df['ssc_p'].mean(), inplace=True)\n",
    "print('Mode of ssc_b: ', df['ssc_b'].mode())\n",
    "df['ssc_b'].fillna(df['ssc_b'].mode()[0], inplace=True)"
   ]
  },
  {
   "cell_type": "code",
   "execution_count": 20,
   "id": "ff3ce90d",
   "metadata": {},
   "outputs": [
    {
     "name": "stdout",
     "output_type": "stream",
     "text": [
      "Total Number of Null Values in Dataset: sl_no              0\n",
      "gender             0\n",
      "ssc_p              0\n",
      "ssc_b              0\n",
      "hsc_p              1\n",
      "hsc_b              2\n",
      "hsc_s              2\n",
      "degree_p           2\n",
      "degree_t           1\n",
      "workex             2\n",
      "etest_p            2\n",
      "specialisation     2\n",
      "mba_p              2\n",
      "status             0\n",
      "salary            67\n",
      "dtype: int64\n"
     ]
    }
   ],
   "source": [
    "print('Total Number of Null Values in Dataset:', df.isna().sum())"
   ]
  },
  {
   "cell_type": "code",
   "execution_count": 21,
   "id": "d9668573",
   "metadata": {},
   "outputs": [
    {
     "name": "stdout",
     "output_type": "stream",
     "text": [
      "Change in datatype:  int8\n"
     ]
    }
   ],
   "source": [
    "df['sl_no']=df['sl_no'].astype('int8')\n",
    "print('Change in datatype: ', df['sl_no'].dtypes)\n"
   ]
  },
  {
   "cell_type": "code",
   "execution_count": 22,
   "id": "0188d6c3",
   "metadata": {},
   "outputs": [],
   "source": [
    "# Find and replace method\n",
    "df['gender'].replace(['M','F'],[0,1],inplace=True)"
   ]
  },
  {
   "cell_type": "code",
   "execution_count": 23,
   "id": "72dc207b",
   "metadata": {},
   "outputs": [],
   "source": [
    "# Label encoding method\n",
    "df['ssc_b']=df['ssc_b'].astype('category') #change data type to category\n",
    "df['ssc_b']=df['ssc_b'].cat.codesb"
   ]
  },
  {
   "cell_type": "code",
   "execution_count": 25,
   "id": "8b73779e",
   "metadata": {},
   "outputs": [],
   "source": [
    "# Ordinal encoder using Scikit-learn\n",
    "from sklearn.preprocessing import OrdinalEncoder\n",
    "enc = OrdinalEncoder()\n",
    "df[['hsc_b']]=enc.fit_transform(df[['hsc_b']])\n"
   ]
  },
  {
   "cell_type": "code",
   "execution_count": 26,
   "id": "4fe983d3",
   "metadata": {},
   "outputs": [
    {
     "name": "stdout",
     "output_type": "stream",
     "text": [
      "After converting categorical variable to numeric variable: \n",
      "                       0         1          2           3          4\n",
      "sl_no                  1         2          3           4          5\n",
      "gender                 0         0          0           0          0\n",
      "ssc_p               67.0     79.33       65.0        56.0       85.8\n",
      "ssc_b                  1         0          0           0          0\n",
      "hsc_p               91.0     78.33       68.0        52.0       73.6\n",
      "hsc_b                1.0       1.0        0.0         0.0        0.0\n",
      "hsc_s           Commerce   Science       Arts     Science   Commerce\n",
      "degree_p            58.0     77.48       64.0        52.0       73.3\n",
      "degree_t        Sci&Tech  Sci&Tech  Comm&Mgmt    Sci&Tech  Comm&Mgmt\n",
      "workex                No       Yes         No          No         No\n",
      "etest_p             55.0      86.5       75.0        66.0       96.8\n",
      "specialisation    Mkt&HR   Mkt&Fin    Mkt&Fin      Mkt&HR    Mkt&Fin\n",
      "mba_p               58.8     66.28       57.8       59.43       55.5\n",
      "status            Placed    Placed     Placed  Not Placed     Placed\n",
      "salary          270000.0  200000.0   250000.0         NaN   425000.0\n"
     ]
    }
   ],
   "source": [
    "print('After converting categorical variable to numeric variable: ')\n",
    "print(df.head().T)"
   ]
  },
  {
   "cell_type": "code",
   "execution_count": 27,
   "id": "66b011e7",
   "metadata": {},
   "outputs": [],
   "source": [
    "df['salary']=(df['salary']-df['salary'].min())/(df['salary'].max()-df['salary'].min())\n",
    "# (x - min value into that column)/(max value - min value)"
   ]
  },
  {
   "cell_type": "code",
   "execution_count": 28,
   "id": "b8e5377b",
   "metadata": {},
   "outputs": [],
   "source": [
    "# Maximum absolute scaler using scikit-learn\n",
    "from sklearn.preprocessing import MaxAbsScaler\n",
    "abs_scaler=MaxAbsScaler()\n",
    "df[['mba_p']]=abs_scaler.fit_transform(df[['mba_p']])"
   ]
  },
  {
   "cell_type": "code",
   "execution_count": 29,
   "id": "53a517b3",
   "metadata": {
    "scrolled": false
   },
   "outputs": [
    {
     "name": "stdout",
     "output_type": "stream",
     "text": [
      "                       0         1          2           3          4\n",
      "sl_no                  1         2          3           4          5\n",
      "gender                 0         0          0           0          0\n",
      "ssc_p               67.0     79.33       65.0        56.0       85.8\n",
      "ssc_b                  1         0          0           0          0\n",
      "hsc_p               91.0     78.33       68.0        52.0       73.6\n",
      "hsc_b                1.0       1.0        0.0         0.0        0.0\n",
      "hsc_s           Commerce   Science       Arts     Science   Commerce\n",
      "degree_p            58.0     77.48       64.0        52.0       73.3\n",
      "degree_t        Sci&Tech  Sci&Tech  Comm&Mgmt    Sci&Tech  Comm&Mgmt\n",
      "workex                No       Yes         No          No         No\n",
      "etest_p             55.0      86.5       75.0        66.0       96.8\n",
      "specialisation    Mkt&HR   Mkt&Fin    Mkt&Fin      Mkt&HR    Mkt&Fin\n",
      "mba_p           0.754911  0.850944   0.742072    0.762999   0.712543\n",
      "status            Placed    Placed     Placed  Not Placed     Placed\n",
      "salary          0.094595       0.0   0.067568         NaN   0.304054\n"
     ]
    }
   ],
   "source": [
    "print(df.head().T)"
   ]
  }
 ],
 "metadata": {
  "kernelspec": {
   "display_name": "Python 3 (ipykernel)",
   "language": "python",
   "name": "python3"
  },
  "language_info": {
   "codemirror_mode": {
    "name": "ipython",
    "version": 3
   },
   "file_extension": ".py",
   "mimetype": "text/x-python",
   "name": "python",
   "nbconvert_exporter": "python",
   "pygments_lexer": "ipython3",
   "version": "3.11.7"
  }
 },
 "nbformat": 4,
 "nbformat_minor": 5
}
